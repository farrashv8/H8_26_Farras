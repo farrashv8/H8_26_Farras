{
 "cells": [
  {
   "metadata": {
    "ExecuteTime": {
     "end_time": "2025-02-24T08:03:46.375019Z",
     "start_time": "2025-02-24T08:03:46.362217Z"
    }
   },
   "cell_type": "code",
   "source": [
    "#Engineering Emphaty fokus ke soft skill\n",
    "#Engineering Emphaty fokus ke Communication\n",
    "#Critical Thinking = mampu menganalisis permasalahan secara mendalam\n",
    "#Emotional Intelligence = Self-Awareness, empati, motivasi\n",
    "#\n",
    "\n",
    "#Program Engineering Emphary\n",
    "#1. Kickoff\n",
    "#2. Counseling (Tidak diperbolehkan pada saat lecture atau buddy session)\n",
    "#3. Tugas, 1 minggu 1 video dan membuat journal dari hasil tontonan video tersebut (cari ilmu apa yang didapat), pertanyaan harus beda tiap pesertanya (pastikan)\n",
    "#3. 4 point -\n"
   ],
   "id": "be5628ffdc2de293",
   "outputs": [],
   "execution_count": 2
  },
  {
   "metadata": {},
   "cell_type": "markdown",
   "source": [
    "*Hello hahahaha*\n",
    "**Hello hahahaha**\n",
    "***Hello hahahaha***"
   ],
   "id": "e6af57fa4c709646"
  },
  {
   "metadata": {},
   "cell_type": "markdown",
   "source": "https://stackoverflow.com/questions/40694528/how-to-know-which-python-is-running-in-jupyter-notebook",
   "id": "80edd7f70f283ff2"
  }
 ],
 "metadata": {
  "kernelspec": {
   "name": "python3",
   "language": "python",
   "display_name": "Python 3 (ipykernel)"
  }
 },
 "nbformat": 5,
 "nbformat_minor": 9
}
